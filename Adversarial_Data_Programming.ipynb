{
  "nbformat": 4,
  "nbformat_minor": 0,
  "metadata": {
    "colab": {
      "name": "Adversarial_Data_Programming.ipynb",
      "provenance": [],
      "collapsed_sections": [],
      "mount_file_id": "1PfRQX1nCH4QH0B5Uff_Qzz7lUwjDCM04",
      "authorship_tag": "ABX9TyOwOTwYWh/fDqnWqDOicXtc",
      "include_colab_link": true
    },
    "kernelspec": {
      "name": "python3",
      "display_name": "Python 3"
    },
    "accelerator": "GPU"
  },
  "cells": [
    {
      "cell_type": "markdown",
      "metadata": {
        "id": "view-in-github",
        "colab_type": "text"
      },
      "source": [
        "<a href=\"https://colab.research.google.com/github/ArghyaPal/Adversarial_Data_Programming/blob/master/Adversarial_Data_Programming.ipynb\" target=\"_parent\"><img src=\"https://colab.research.google.com/assets/colab-badge.svg\" alt=\"Open In Colab\"/></a>"
      ]
    },
    {
      "cell_type": "markdown",
      "metadata": {
        "id": "6ZEmJOpFtYhN",
        "colab_type": "text"
      },
      "source": [
        "# Adversarial Data Programming\n",
        "Paucity of large curated hand-labeled training data forms a major bottleneck in the deployment of machine learning models in computer vision and other fields. Recent work (Data Programming) has shown how distant supervision signals in the form of labeling functions can be used to obtain labels for given data in near-constant time. In this work, we present Adversarial Data Programming (ADP), which presents an adversarial methodology to generate data as well as a curated aggregated label, given a set of weak labeling functions. We validated our method on the MNIST, Fashion MNIST, CIFAR10 and SVHN datasets, and it outperformed many state-of-the-art models. We conducted extensive experiments to study its usefulness, as well as showed how the proposed ADP framework can be used for transfer learning as well as multi-task learning, where data from two domains are generated simultaneously using the framework along with the label information. Our future work will involve understanding the theoretical implications of this new framework from a game-theoretic perspective, as well as explore the performance of the method on more complex datasets.\n",
        "\n",
        "**TL;DR:**<br>\n",
        "Learning the parameters of Joint Distribution, i.e. P(Χ, y) and Χ: image, y: label, using Distant Supervision Signals. In this work, we seek to learn the parameters of the Joint Distribution P(Χ, LFB_(L, Theta)(X)). The LFB_(L, Theta) (.) acts as a proxy to the real label y. "
      ]
    },
    {
      "cell_type": "code",
      "metadata": {
        "id": "aP3xDdKxMDnM",
        "colab_type": "code",
        "colab": {}
      },
      "source": [
        "# Please run it once on a runtime\n",
        "!pip install kmeans-pytorch"
      ],
      "execution_count": null,
      "outputs": []
    },
    {
      "cell_type": "code",
      "metadata": {
        "id": "z5HmixuLKuwt",
        "colab_type": "code",
        "colab": {}
      },
      "source": [
        "import os\n",
        "import torch\n",
        "import torchvision\n",
        "import torch.nn as nn\n",
        "from torchvision import transforms\n",
        "from torchvision.utils import save_image\n",
        "from torch.autograd import Variable\n",
        "import matplotlib.pyplot as plt\n",
        "import pylab\n",
        "import numpy as np\n",
        "from kmeans_pytorch import kmeans, kmeans_predict"
      ],
      "execution_count": null,
      "outputs": []
    },
    {
      "cell_type": "code",
      "metadata": {
        "id": "hyyWXMNpM0w8",
        "colab_type": "code",
        "colab": {}
      },
      "source": [
        "# Decide which device we want to run on\n",
        "ngpu = 4\n",
        "device = torch.device(\"cuda:0\" if (torch.cuda.is_available() and ngpu > 0) else \"cpu\")"
      ],
      "execution_count": null,
      "outputs": []
    },
    {
      "cell_type": "code",
      "metadata": {
        "id": "lK2xHmM4K1mQ",
        "colab_type": "code",
        "colab": {}
      },
      "source": [
        "'''\n",
        "Hyperparameters used in this projects\n",
        "'''\n",
        "# The noise dimension for the Generator, i.e. the z dimension, sampled from a Gaussian Distribution\n",
        "latent_size = 64\n",
        "# The network layer dimension of Generator and Discriminator\n",
        "hidden_size = 256\n",
        "# The generated image size/image size. MNIST size 28 X 28 = 784\n",
        "image_size = 784\n",
        "# Number of epochs\n",
        "num_epochs = 300\n",
        "# A mini-batch size\n",
        "batch_size = 20\n",
        "# Adam learning rate\n",
        "lr = 0.0001\n",
        "\n",
        "# Number of classes\n",
        "nclass = 10          # For MNIST dataset, please change it for other dataset"
      ],
      "execution_count": null,
      "outputs": []
    },
    {
      "cell_type": "markdown",
      "metadata": {
        "id": "pjsGaQxmHMui",
        "colab_type": "text"
      },
      "source": [
        "### Please mention the number of Labeleing Functions here"
      ]
    },
    {
      "cell_type": "code",
      "metadata": {
        "id": "kD1x0b2aHEtA",
        "colab_type": "code",
        "colab": {}
      },
      "source": [
        "theta = 1"
      ],
      "execution_count": null,
      "outputs": []
    },
    {
      "cell_type": "markdown",
      "metadata": {
        "id": "2gZ0G-2oH0BK",
        "colab_type": "text"
      },
      "source": [
        "### Dataset"
      ]
    },
    {
      "cell_type": "code",
      "metadata": {
        "id": "nPedqD1nK4vC",
        "colab_type": "code",
        "colab": {}
      },
      "source": [
        "sample_dir = 'samples'\n",
        "save_dir = 'save'\n",
        "\n",
        "# Create a directory if not exists\n",
        "if not os.path.exists(sample_dir):\n",
        "    os.makedirs(sample_dir)\n",
        "\n",
        "if not os.path.exists(save_dir):\n",
        "    os.makedirs(save_dir)\n",
        "\n",
        "# Image processing\n",
        "transform = transforms.Compose([\n",
        "                transforms.ToTensor(),\n",
        "                transforms.Normalize(mean=(0.5),   # 3 for RGB channels\n",
        "                                     std=(0.5))])\n",
        "\n",
        "# MNIST dataset\n",
        "mnist = torchvision.datasets.MNIST(root='./data/',\n",
        "                                   train=True,\n",
        "                                   transform=transform,\n",
        "                                   download=True)\n",
        "\n",
        "# Data loader\n",
        "data_loader = torch.utils.data.DataLoader(dataset=mnist,\n",
        "                                          batch_size=batch_size, \n",
        "                                          shuffle=True)"
      ],
      "execution_count": null,
      "outputs": []
    },
    {
      "cell_type": "markdown",
      "metadata": {
        "id": "cpE1mtRn__m0",
        "colab_type": "text"
      },
      "source": [
        "### ADP Labeling Function Block $LFB(y|X, \\Theta)$"
      ]
    },
    {
      "cell_type": "code",
      "metadata": {
        "id": "d0OYu7dJ0GKD",
        "colab_type": "code",
        "colab": {}
      },
      "source": [
        "    \"\"\"\n",
        "    The labeling functions infer label of an image independently \n",
        "    (i.e. independent decision assumption) and the parameter gives relative \n",
        "    weight to each of the labeling functions based on their correctness of \n",
        "    inferred label for true class y.\n",
        "\n",
        "    Parameters\n",
        "    ----------\n",
        "    X\n",
        "        Batch of images, torch.Tensor\n",
        "    theta\n",
        "        Batch of relative accuracies are weights given to labeling functions \n",
        "        based on whether their outputs agree with true class label y of an \n",
        "        image X, torch.Tensor\n",
        "    Returns\n",
        "    -------\n",
        "    theta * y1\n",
        "        Batch of approximated labels (in this formulation), torch.Tensor\n",
        "    \"\"\"\n",
        "def lf1(fake_images, theta): \n",
        "  # fake_images is a batch of generated images from the G_image\n",
        "  cluster_centers = torch.load('/content/drive/My Drive/Colab_Notebooks/cluster_centers.pt')\n",
        "  # we use k-means (unsupervised) clustering as one labeling function\n",
        "  y1 = kmeans_predict(fake_images, cluster_centers, 'euclidean', device=device)\n",
        "  y1 = y1.view(-1,1).cuda()\n",
        "  return theta * y1"
      ],
      "execution_count": null,
      "outputs": []
    },
    {
      "cell_type": "markdown",
      "metadata": {
        "id": "rsci7azICCBv",
        "colab_type": "text"
      },
      "source": [
        "### ADP Generator $G(X, \\Theta|z)$"
      ]
    },
    {
      "cell_type": "code",
      "metadata": {
        "id": "Tyl-RaOiLM1u",
        "colab_type": "code",
        "colab": {}
      },
      "source": [
        "class Generator(nn.Module):\n",
        "    def __init__(self):\n",
        "        super(Generator, self).__init__()\n",
        "        self.G_common = nn.Sequential(\n",
        "                              nn.Linear(latent_size, hidden_size),\n",
        "                              nn.ReLU(),\n",
        "                              nn.Linear(hidden_size, hidden_size),\n",
        "                              nn.ReLU())\n",
        "        self.G_image = nn.Sequential(\n",
        "                              nn.Linear(hidden_size, image_size),\n",
        "                              nn.Tanh())\n",
        "        self.G_parameter = nn.Sequential(\n",
        "                              nn.Linear(hidden_size, theta),\n",
        "                              # We use softmax to make the theta to be in the \n",
        "                              # range [0,1]\n",
        "                              nn.Softmax(dim=1))\n",
        "    \"\"\"\n",
        "    Parameters\n",
        "    ----------\n",
        "    z\n",
        "        Batch of noise vector, torch.Tensor\n",
        "    Returns\n",
        "    -------\n",
        "    X\n",
        "        Batch of images, torch.Tensor\n",
        "    theta\n",
        "        Batch of a Relative accuracies, torch.Tensor\n",
        "    \"\"\"\n",
        "    def forward(self, input):\n",
        "        common = self.G_common(input)\n",
        "        image = self.G_image(common)\n",
        "        theta = self.G_parameter(common)\n",
        "        return image, theta"
      ],
      "execution_count": null,
      "outputs": []
    },
    {
      "cell_type": "markdown",
      "metadata": {
        "id": "QbZng0nN1HHe",
        "colab_type": "text"
      },
      "source": [
        "### ADP Discriminator D(X, y)\n"
      ]
    },
    {
      "cell_type": "code",
      "metadata": {
        "id": "58NhqczSLKTw",
        "colab_type": "code",
        "colab": {}
      },
      "source": [
        "class Discriminator(nn.Module):\n",
        "  '''\n",
        "  The discriminator class takes a batch of either real or generated image and \n",
        "  inferred label from Labeling Functions Block LFB(.) pairs as input.\n",
        "  And, maps that to a probability score to estimate the aforementioned \n",
        "  likelihood of the image-label pair as real labeled-image\n",
        "  '''\n",
        "    def __init__(self):\n",
        "        super(Discriminator, self).__init__()\n",
        "        '''\n",
        "        The D_image takes a batch of images\n",
        "        '''\n",
        "        self.D_image = nn.Sequential(\n",
        "                              nn.Linear(image_size, hidden_size),\n",
        "                              nn.LeakyReLU(0.2))\n",
        "        '''\n",
        "        The D_label takes a batch of labels\n",
        "        '''\n",
        "        self.D_label = nn.Sequential(\n",
        "                              nn.Linear(10, hidden_size),\n",
        "                              nn.LeakyReLU(0.2))\n",
        "        '''\n",
        "        The D_common adds the D_image and D_label branches and provides \n",
        "        '''\n",
        "        self.D_common = nn.Sequential(\n",
        "                              nn.Linear(hidden_size*2, hidden_size),\n",
        "                              nn.LeakyReLU(0.2),\n",
        "                              nn.Linear(hidden_size, 1),\n",
        "                              # This will ensure the output to be in the range of [0,1]\n",
        "                              nn.Sigmoid())\n",
        "    \"\"\"Estimates the probability score as a likelihood of the input image-label pair\n",
        "    as real image-label pair.\n",
        "    This function provides a batch of probability scores, i.e. P(X, y), stored as a \n",
        "    vector P. We will use that vector to give loss signal to the Discriminator D(.) \n",
        "    and Generator G(.).\n",
        "\n",
        "    Parameters\n",
        "    ----------\n",
        "    X\n",
        "        Batch of images, torch.Tensor\n",
        "    y\n",
        "        Batch of labels, torch.Tensor\n",
        "    Returns\n",
        "    -------\n",
        "    result\n",
        "        Batch of probabilities, torch.Tensor\n",
        "    \"\"\"\n",
        "    def forward(self, image, label):\n",
        "        # image is the batch of images given to the D_image branch\n",
        "        image = self.D_image(image)\n",
        "        # label is the corresponding labels given to the D_label branch\n",
        "        label = self.D_label(label)\n",
        "        # common is the branch that concates D_image and D_label\n",
        "        common = torch.cat([image, label], 1)\n",
        "        # result is the batch of probability score\n",
        "        result = self.D_common(common)\n",
        "        return result"
      ],
      "execution_count": null,
      "outputs": []
    },
    {
      "cell_type": "code",
      "metadata": {
        "id": "YlfNq55ULRuN",
        "colab_type": "code",
        "colab": {}
      },
      "source": [
        "# Device setting\n",
        "G = Generator().cuda()\n",
        "D = Discriminator().cuda()\n",
        "\n",
        "# Binary cross entropy loss and optimizer\n",
        "criterion = nn.BCELoss()\n",
        "d_optimizer = torch.optim.Adam(D.parameters(), lr=lr)\n",
        "g_optimizer = torch.optim.Adam(G.parameters(), lr=lr)\n",
        "\n",
        "def denorm(x):\n",
        "    out = (x + 1) / 2\n",
        "    return out.clamp(0, 1)\n",
        "\n",
        "def reset_grad():\n",
        "    d_optimizer.zero_grad()\n",
        "    g_optimizer.zero_grad()"
      ],
      "execution_count": null,
      "outputs": []
    },
    {
      "cell_type": "code",
      "metadata": {
        "id": "kFY03OEhLWKc",
        "colab_type": "code",
        "colab": {}
      },
      "source": [
        "# Statistics to be saved\n",
        "d_losses = np.zeros(num_epochs)\n",
        "g_losses = np.zeros(num_epochs)\n",
        "real_scores = np.zeros(num_epochs)\n",
        "fake_scores = np.zeros(num_epochs)"
      ],
      "execution_count": null,
      "outputs": []
    },
    {
      "cell_type": "code",
      "metadata": {
        "id": "n9TM5beFLhi4",
        "colab_type": "code",
        "colab": {}
      },
      "source": [
        "# We will start Adversarial Data Programming training\n",
        "total_step = len(data_loader)\n",
        "\n",
        "# To change num_epochhs please visit the hyperparameters section\n",
        "for epoch in range(num_epochs):\n",
        "  # We will be training discriminator one time and then the generator one time\n",
        "  # using the for loop\n",
        "    for i, (images, original_labels) in enumerate(data_loader):\n",
        "\n",
        "        # Reading real MNIST images\n",
        "        images = images.view(batch_size, -1).cuda()\n",
        "        images = Variable(images)\n",
        "        # Reading real MNIST labeles of the corresponding images\n",
        "        original_labels = torch.nn.functional.one_hot(original_labels, num_classes=10)\n",
        "        # We are making it in one-hot encoding\n",
        "        original_labels = original_labels.view(batch_size, -1).cuda()\n",
        "        original_labels = Variable(original_labels).float()\n",
        "        \n",
        "\n",
        "        # Labels for the discriminator. Real Labels are 1 and Fake Labels are 0\n",
        "        real_labels = torch.ones(batch_size, 1).cuda()\n",
        "        real_labels = Variable(real_labels)\n",
        "        fake_labels = torch.zeros(batch_size, 1).cuda()\n",
        "        fake_labels = Variable(fake_labels)\n",
        "\n",
        "        #######################################################################\n",
        "        '''\n",
        "        Below line of codes will train the discriminator.\n",
        "        The discriminator will take: (i) a batch of images; and (ii) a batch of labels\n",
        "        The object, i.e. outputs = D(images, original_labels), of the Discriminator class\n",
        "        We compute BCE_Loss using real images where:\n",
        "        BCE_Loss(x, y): - y * log(D(x)) - (1-y) * log(1 - D(x))\n",
        "        Second term of the loss is always zero since real_labels == 1\n",
        "        '''\n",
        "        outputs = D(images, original_labels)\n",
        "        d_loss_real = criterion(outputs, real_labels)\n",
        "        real_score = outputs\n",
        "        #######################################################################\n",
        "\n",
        "        #######################################################################\n",
        "        '''\n",
        "        We sample z from the Isotropic Gaussian distribution\n",
        "        Compute BCELoss using fake images\n",
        "        First term of the loss is always zero since fake_labels == 0\n",
        "        '''\n",
        "        z = torch.randn(batch_size, latent_size).cuda()\n",
        "        z = Variable(z)\n",
        "        # We put that in the G_common\n",
        "        fake_images, theta = G(z)\n",
        "\n",
        "        # generated labels from labeling function (here, we are showing one labeling function)\n",
        "        gen_labels = lf1(fake_images, theta)\n",
        "        gen_labels = gen_labels.view(batch_size)\n",
        "        gen_labels = torch.nn.functional.one_hot(gen_labels.to(torch.int64), num_classes=nclass).float()\n",
        "        # \n",
        "        outputs = D(fake_images, gen_labels)\n",
        "        d_loss_fake = criterion(outputs, fake_labels)\n",
        "        fake_score = outputs\n",
        "        \n",
        "        # Backprop and optimize\n",
        "        # If D is trained so well, then don't update\n",
        "        d_loss = d_loss_real + d_loss_fake\n",
        "        reset_grad()\n",
        "        d_loss.backward()\n",
        "        d_optimizer.step()\n",
        "        #######################################################################\n",
        "\n",
        "        '''\n",
        "        Train generator \n",
        "        '''\n",
        "\n",
        "        # Compute loss with fake images\n",
        "        z = torch.randn(batch_size, latent_size).cuda()\n",
        "        z = Variable(z)\n",
        "        fake_images, theta = G(z)\n",
        "        gen_labels = lf1(fake_images, theta)\n",
        "        gen_labels = gen_labels.view(batch_size)\n",
        "        gen_labels = torch.nn.functional.one_hot(gen_labels.to(torch.int64), num_classes=nclass).float()\n",
        "        # \n",
        "        outputs = D(fake_images, gen_labels)\n",
        "        \n",
        "        # We train G to maximize log(D(G(z)) instead of minimizing log(1-D(G(z)))\n",
        "        # For the reason, see the last paragraph of section 3. https://arxiv.org/pdf/1406.2661.pdf\n",
        "        g_loss = criterion(outputs, real_labels)\n",
        "        \n",
        "        # Backprop and optimize\n",
        "        # if G is trained so well, then don't update\n",
        "        reset_grad()\n",
        "        g_loss.backward()\n",
        "        g_optimizer.step()\n",
        "\n",
        "\n",
        "         #=================================================================== #\n",
        "        #                          Update Statistics                          #\n",
        "        # =================================================================== #\n",
        "        d_losses[epoch] = d_losses[epoch]*(i/(i+1.)) + d_loss.data*(1./(i+1.))\n",
        "        g_losses[epoch] = g_losses[epoch]*(i/(i+1.)) + g_loss.data*(1./(i+1.))\n",
        "        real_scores[epoch] = real_scores[epoch]*(i/(i+1.)) + real_score.mean().data*(1./(i+1.))\n",
        "        fake_scores[epoch] = fake_scores[epoch]*(i/(i+1.)) + fake_score.mean().data*(1./(i+1.))\n",
        "\n",
        "\n",
        "        if (i+1) % 200 == 0:\n",
        "            print('Epoch [{}/{}], Step [{}/{}], d_loss: {:.4f}, g_loss: {:.4f}, D(x): {:.2f}, D(G(z)): {:.2f}' \n",
        "                  .format(epoch, num_epochs, i+1, total_step, d_loss.data, g_loss.data, \n",
        "                          real_score.mean().data, fake_score.mean().data))\n",
        "            \n",
        "    # Save real images\n",
        "    if (epoch+1) == 1:\n",
        "        images = images.view(images.size(0), 1, 28, 28)\n",
        "        save_image(denorm(images.data), os.path.join(sample_dir, 'real_images.png'))\n",
        "    \n",
        "    # Save sampled images\n",
        "    fake_images = fake_images.view(fake_images.size(0), 1, 28, 28)\n",
        "    print(gen_labels)\n",
        "    save_image(denorm(fake_images.data), os.path.join(sample_dir, 'fake_images-{}.png'.format(epoch+1)))\n",
        "    \n",
        "    # Save and plot Statistics\n",
        "    np.save(os.path.join(save_dir, 'd_losses.npy'), d_losses)\n",
        "    np.save(os.path.join(save_dir, 'g_losses.npy'), g_losses)\n",
        "    np.save(os.path.join(save_dir, 'fake_scores.npy'), fake_scores)\n",
        "    np.save(os.path.join(save_dir, 'real_scores.npy'), real_scores)\n",
        "    \n",
        "    plt.figure()\n",
        "    pylab.xlim(0, num_epochs + 1)\n",
        "    plt.plot(range(1, num_epochs + 1), d_losses, label='d loss')\n",
        "    plt.plot(range(1, num_epochs + 1), g_losses, label='g loss')    \n",
        "    plt.legend()\n",
        "    plt.savefig(os.path.join(save_dir, 'loss.pdf'))\n",
        "    plt.close()\n",
        "\n",
        "    plt.figure()\n",
        "    pylab.xlim(0, num_epochs + 1)\n",
        "    pylab.ylim(0, 1)\n",
        "    plt.plot(range(1, num_epochs + 1), fake_scores, label='fake score')\n",
        "    plt.plot(range(1, num_epochs + 1), real_scores, label='real score')    \n",
        "    plt.legend()\n",
        "    plt.savefig(os.path.join(save_dir, 'accuracy.pdf'))\n",
        "    plt.close()\n",
        "\n",
        "    # Save model at checkpoints\n",
        "    if (epoch+1) % 50 == 0:\n",
        "        torch.save(G.state_dict(), os.path.join(save_dir, 'G--{}.ckpt'.format(epoch+1)))\n",
        "        torch.save(D.state_dict(), os.path.join(save_dir, 'D--{}.ckpt'.format(epoch+1)))\n",
        "\n",
        "# Save the model checkpoints \n",
        "torch.save(G.state_dict(), 'G.ckpt')\n",
        "torch.save(D.state_dict(), 'D.ckpt')"
      ],
      "execution_count": null,
      "outputs": []
    }
  ]
}